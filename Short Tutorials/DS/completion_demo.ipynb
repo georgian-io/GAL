{
 "cells": [
  {
   "cell_type": "markdown",
   "id": "df04f8c5-3cf2-402f-8492-23f3da298cf9",
   "metadata": {},
   "source": [
    "### GPT-4 Completion Demo"
   ]
  },
  {
   "cell_type": "code",
   "execution_count": null,
   "id": "76bc20d9-e101-4db0-8b2b-a93077b9607c",
   "metadata": {},
   "outputs": [],
   "source": []
  }
 ],
 "metadata": {
  "kernelspec": {
   "display_name": "Python 3 (ipykernel)",
   "language": "python",
   "name": "python3"
  },
  "language_info": {
   "codemirror_mode": {
    "name": "ipython",
    "version": 3
   },
   "file_extension": ".py",
   "mimetype": "text/x-python",
   "name": "python",
   "nbconvert_exporter": "python",
   "pygments_lexer": "ipython3",
   "version": "3.10.6"
  }
 },
 "nbformat": 4,
 "nbformat_minor": 5
}
