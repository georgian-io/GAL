{
 "cells": [
  {
   "cell_type": "markdown",
   "metadata": {},
   "source": [
    "# Step 3: Define metrics to use\n",
    "In general, we want to evaluate 2 things: whether the context retrieved is good, and whether the overall answer is good.\n",
    "\n",
    "We'll be tracking the following metrics, and for some we'll use the `ragas` library to evaluate.\n",
    "## Assessing the context\n",
    "- `context_correctness`: whether the `ground_truth_context` is included in the list of retrieved contexts\n",
    "- `ground_truth_context_rank`: rank of the ground_truth_context in the retrieved context\n",
    "- `context_rougel_score`: ROUGE-L score between the ground_truth_context and the top retrieved context\n",
    "- `context_precision` (with `ragas`): how relevant the retrieved contexts are to the question, assessed with LLM\n",
    "\n",
    "## Assessing the answer\n",
    "- `faithfulness` (with `ragas`): does the answer use information from the context? (assessed with LLM )\n",
    "- `answer_correctness` (with `ragas`): a combination of the following\n",
    "    - how relevant is the answer to the question? based on cosine similarity of embeddings\n",
    "    - whether the answer matches with the ground truth, assessed with LLM\n",
    "\n"
   ]
  },
  {
   "cell_type": "code",
   "execution_count": 3,
   "metadata": {},
   "outputs": [],
   "source": [
    "import evaluate\n",
    "\n",
    "\n",
    "def context_correctness(ground_truth_context, contexts):\n",
    "    \"\"\"whether the `ground_truth_context` is included in the list of retrieved contexts\"\"\"\n",
    "    return ground_truth_context in contexts\n",
    "\n",
    "\n",
    "def ground_truth_context_rank(ground_truth_context, contexts):\n",
    "    \"\"\"rank of the ground_truth_context in the retrieved contexts, -1 if not found\"\"\"\n",
    "    if ground_truth_context is not None:\n",
    "        try:\n",
    "            return contexts.index(ground_truth_context)\n",
    "        except:\n",
    "            return -1\n",
    "    else:\n",
    "        return -1\n",
    "\n",
    "\n",
    "def context_rougel_score(ground_truth_context, contexts):\n",
    "    \"\"\"ROUGE-L score between the ground_truth_context and the top retrieved context\"\"\"\n",
    "    rouge = evaluate.load('rouge')\n",
    "    return rouge.compute(predictions=[contexts[0]], references=[ground_truth_context])[\"rougeL\"]\n"
   ]
  },
  {
   "cell_type": "markdown",
   "metadata": {},
   "source": [
    "For `ragas`, we can simply call them together as follows:"
   ]
  },
  {
   "cell_type": "code",
   "execution_count": 2,
   "metadata": {},
   "outputs": [],
   "source": [
    "from datasets import Dataset\n",
    "from ragas import evaluate as ragas_evaluate\n",
    "from ragas.metrics import context_precision, faithfulness, answer_correctness\n",
    "\n",
    "from langchain_openai import ChatOpenAI\n",
    "\n",
    "\n",
    "def evaluate_w_ragas(item, metrics=[context_precision, faithfulness, answer_correctness]):\n",
    "    gpt4_llm = ChatOpenAI(model_name=\"gpt-4-turbo-preview\", temperature=0)\n",
    "\n",
    "    # Format the example into datasets, which ragas takes as inputs\n",
    "    row_dataset = Dataset.from_pandas(item.to_frame().T)\n",
    "\n",
    "    # Ragas by default takes in a batch of items and aggregates metrics together\n",
    "    # So in this example, we need to pass one by one to get individual results.\n",
    "    # However, it does run faster when you pass all metrics at once.\n",
    "    ragas_eval_results = ragas_evaluate(row_dataset, metrics=metrics, llm=gpt4_llm)\n",
    "    return ragas_eval_results"
   ]
  },
  {
   "cell_type": "code",
   "execution_count": null,
   "metadata": {},
   "outputs": [],
   "source": []
  }
 ],
 "metadata": {
  "kernelspec": {
   "display_name": "llm-evaluation",
   "language": "python",
   "name": "python3"
  },
  "language_info": {
   "codemirror_mode": {
    "name": "ipython",
    "version": 3
   },
   "file_extension": ".py",
   "mimetype": "text/x-python",
   "name": "python",
   "nbconvert_exporter": "python",
   "pygments_lexer": "ipython3",
   "version": "3.10.13"
  }
 },
 "nbformat": 4,
 "nbformat_minor": 2
}
