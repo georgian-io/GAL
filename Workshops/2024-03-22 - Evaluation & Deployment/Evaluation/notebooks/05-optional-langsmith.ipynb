{
 "cells": [
  {
   "cell_type": "markdown",
   "metadata": {},
   "source": [
    "# Step 5 (Optional): Use LangSmith to track evaluation and trace"
   ]
  },
  {
   "cell_type": "code",
   "execution_count": 1,
   "metadata": {},
   "outputs": [],
   "source": [
    "%run 01-llm-app-setup.ipynb"
   ]
  },
  {
   "cell_type": "markdown",
   "metadata": {},
   "source": [
    "## Tracing\n",
    "Because we are already using langchain, in order to start tracing, we just need to set the following environment variables along with the API key.\n",
    "\n",
    "Get the API key by signing up on smith.langchain.com"
   ]
  },
  {
   "cell_type": "code",
   "execution_count": 2,
   "metadata": {},
   "outputs": [],
   "source": [
    "import os\n",
    "\n",
    "os.environ[\"LANGCHAIN_TRACING_V2\"] = \"true\"\n",
    "os.environ[\"LANGCHAIN_PROJECT\"] = \"LLM Eval Workshop\"\n",
    "os.environ[\"LANGCHAIN_ENDPOINT\"] = \"https://api.smith.langchain.com\"\n",
    "\n",
    "# If you haven't set it in your \".env\" file, you can set your API key here.\n",
    "# os.environ[\"LANGCHAIN_API_KEY\"] = \"ls__...\""
   ]
  },
  {
   "cell_type": "markdown",
   "metadata": {},
   "source": [
    "## Other ways to log traces to LangSmith\n",
    "If you're not using LangChain, don't worry! There are other ways of using LangSmith, you can find them [here](https://docs.smith.langchain.com/tracing/faq/logging_and_viewing#logging-traces).\n",
    "\n",
    "For non-langchain apps, we find adding `traceable` decorator to be the easiest way to log. Here's an example"
   ]
  },
  {
   "cell_type": "code",
   "execution_count": 3,
   "metadata": {},
   "outputs": [
    {
     "name": "stderr",
     "output_type": "stream",
     "text": [
      "session_name: LLM Eval Workshop RAG Pipeline Trace\n",
      "session_name: LLM Eval Workshop RAG Pipeline Trace\n"
     ]
    },
    {
     "data": {
      "text/plain": [
       "{'answer': 'Task decomposition is a technique that breaks down complex tasks into smaller and simpler steps, making them more manageable. It involves transforming big tasks into multiple manageable tasks by thinking step by step or generating multiple thoughts per step in a tree structure. Task decomposition can be done using prompting techniques by LLM, task-specific instructions, or human inputs.',\n",
       " 'context': ['Fig. 1. Overview of a LLM-powered autonomous agent system.\\nComponent One: Planning#\\nA complicated task usually involves many steps. An agent needs to know what they are and plan ahead.\\nTask Decomposition#\\nChain of thought (CoT; Wei et al. 2022) has become a standard prompting technique for enhancing model performance on complex tasks. The model is instructed to “think step by step” to utilize more test-time computation to decompose hard tasks into smaller and simpler steps. CoT transforms big tasks into multiple manageable tasks and shed lights into an interpretation of the model’s thinking process.',\n",
       "  'Tree of Thoughts (Yao et al. 2023) extends CoT by exploring multiple reasoning possibilities at each step. It first decomposes the problem into multiple thought steps and generates multiple thoughts per step, creating a tree structure. The search process can be BFS (breadth-first search) or DFS (depth-first search) with each state evaluated by a classifier (via a prompt) or majority vote.\\nTask decomposition can be done (1) by LLM with simple prompting like \"Steps for XYZ.\\\\n1.\", \"What are the subgoals for achieving XYZ?\", (2) by using task-specific instructions; e.g. \"Write a story outline.\" for writing a novel, or (3) with human inputs.',\n",
       "  'Resources:\\n1. Internet access for searches and information gathering.\\n2. Long Term memory management.\\n3. GPT-3.5 powered Agents for delegation of simple tasks.\\n4. File output.\\n\\nPerformance Evaluation:\\n1. Continuously review and analyze your actions to ensure you are performing to the best of your abilities.\\n2. Constructively self-criticize your big-picture behavior constantly.\\n3. Reflect on past decisions and strategies to refine your approach.\\n4. Every command has a cost, so be smart and efficient. Aim to complete tasks in the least number of steps.',\n",
       "  \"(3) Task execution: Expert models execute on the specific tasks and log results.\\nInstruction:\\n\\nWith the input and the inference results, the AI assistant needs to describe the process and results. The previous stages can be formed as - User Input: {{ User Input }}, Task Planning: {{ Tasks }}, Model Selection: {{ Model Assignment }}, Task Execution: {{ Predictions }}. You must first answer the user's request in a straightforward manner. Then describe the task process and show your analysis and model inference results to the user in the first person. If inference results contain a file path, must tell the user the complete file path.\"]}"
      ]
     },
     "execution_count": 3,
     "metadata": {},
     "output_type": "execute_result"
    }
   ],
   "source": [
    "from langsmith import traceable\n",
    "from langsmith.wrappers import wrap_openai\n",
    "import openai\n",
    "\n",
    "@traceable(run_type=\"retriever\", name=\"Retrieve Context\")\n",
    "def retrieve_docs(question: str) -> str:\n",
    "    docs = retriever.get_relevant_documents(question)\n",
    "    return format_to_string_list(docs)\n",
    "\n",
    "# Langsmith also provides a specific wrapper for OpenAI's API, or we can also use the traceable like above\n",
    "client = wrap_openai(openai.Client())\n",
    "\n",
    "@traceable(name=\"RAG Pipeline Trace\")\n",
    "def rag_pipeline(question: str):\n",
    "    context_list = retrieve_docs(question)\n",
    "    \n",
    "    messages = [\n",
    "        { \"role\": \"system\", \"content\": \"You are an assistant for question-answering tasks. Use the following pieces of retrieved context to answer the question. If you don't know the answer, just say that you don't know. Use three sentences maximum and keep the answer concise.\" },\n",
    "        { \"role\": \"user\", \"content\": f\"Question: {question} \\nContext: {concat_string(context_list)} \\nAnswer:\"}\n",
    "    ]\n",
    "    chat_completion = client.chat.completions.create(\n",
    "        model=\"gpt-3.5-turbo\", messages=messages\n",
    "    )\n",
    "    return {\n",
    "        \"answer\": chat_completion.choices[0].message.content,\n",
    "        \"context\": context_list\n",
    "    }\n",
    "\n",
    "rag_pipeline(\"What is Task Decomposition?\")"
   ]
  },
  {
   "cell_type": "markdown",
   "metadata": {},
   "source": [
    "## Uploading evaluation to LangSmith \n",
    "### First, we need to register our eval dataset to LangSmith"
   ]
  },
  {
   "cell_type": "code",
   "execution_count": 10,
   "metadata": {},
   "outputs": [],
   "source": [
    "import pandas as pd\n",
    "\n",
    "gen_dataset = pd.read_csv(\"generated_qa.csv\").fillna(\"\")"
   ]
  },
  {
   "cell_type": "code",
   "execution_count": 11,
   "metadata": {},
   "outputs": [],
   "source": [
    "from langsmith import Client\n",
    "\n",
    "client = Client()\n",
    "dataset_name = \"RAG QA Dataset v2\"\n",
    "\n",
    "\n",
    "dataset = client.upload_dataframe(\n",
    "    df=gen_dataset,\n",
    "    input_keys=[\"question\"],\n",
    "    output_keys=[\"ground_truth\", \"ground_truth_context\"],\n",
    "    name=dataset_name,\n",
    "    description=\"Dataset to test out QA with RAG.\",\n",
    "    data_type=\"kv\" # The default\n",
    ")"
   ]
  },
  {
   "cell_type": "markdown",
   "metadata": {},
   "source": [
    "### Then, we evaluate our app\n",
    "First, let's setup our custom evaluators. LangSmith requires results to be returned with a class `EvaluationResult`\n"
   ]
  },
  {
   "cell_type": "code",
   "execution_count": 4,
   "metadata": {},
   "outputs": [],
   "source": [
    "%run 03-metrics-definition.ipynb"
   ]
  },
  {
   "cell_type": "code",
   "execution_count": 17,
   "metadata": {},
   "outputs": [],
   "source": [
    "from langsmith.evaluation import EvaluationResult, run_evaluator\n",
    "\n",
    "@run_evaluator\n",
    "def ls_context_correctness(run, example) -> EvaluationResult:\n",
    "    ground_truth_context = example.outputs[\"ground_truth_context\"]\n",
    "    retrieved_contexts = run.outputs[\"context\"] or []\n",
    "    return EvaluationResult(key=\"context_correctness\", score=context_correctness(ground_truth_context, retrieved_contexts))\n",
    "    \n",
    "    \n",
    "@run_evaluator\n",
    "def ls_ground_truth_context_rank(run, example) -> EvaluationResult:\n",
    "    ground_truth_context = example.outputs[\"ground_truth_context\"]\n",
    "    retrieved_contexts = run.outputs.get(\"context\") or []\n",
    "    return EvaluationResult(key=\"ground_truth_context_rank\", score=ground_truth_context_rank(ground_truth_context, retrieved_contexts))\n",
    "\n",
    "@run_evaluator\n",
    "def ls_context_rougel_score(run, example) -> EvaluationResult:\n",
    "    ground_truth_context = example.outputs[\"ground_truth_context\"]\n",
    "    retrieved_contexts = run.outputs[\"context\"]\n",
    "    return EvaluationResult(key=\"context_rougel_score\", score=context_rougel_score(ground_truth_context, retrieved_contexts))\n"
   ]
  },
  {
   "cell_type": "code",
   "execution_count": 18,
   "metadata": {},
   "outputs": [],
   "source": [
    "from langchain.smith import RunEvalConfig, run_on_dataset\n",
    "\n",
    "eval_config = RunEvalConfig(\n",
    "    custom_evaluators=[ls_context_correctness, ls_ground_truth_context_rank, ls_context_rougel_score],\n",
    "    \n",
    "    # You can also use a prebuilt evaluator\n",
    "    # by providing a name or RunEvalConfig.<configured evaluator>\n",
    "    evaluators=[\n",
    "        # You can specify an evaluator by name/enum.\n",
    "        RunEvalConfig.Criteria(\"harmfulness\"),\n",
    "        # And also define your own custom LLM evaluator.\n",
    "        RunEvalConfig.Criteria(\n",
    "            {\n",
    "                \"helpfulness\": \"Are the answers helpful and provide new information to the user?\"\n",
    "            }\n",
    "        ),\n",
    "    ],\n",
    "    \n",
    "    input_key=\"question\",\n",
    "    reference_key=\"ground_truth\",\n",
    "    prediction_key=\"answer\"\n",
    ")\n"
   ]
  },
  {
   "cell_type": "markdown",
   "metadata": {},
   "source": [
    "## Run the evaluation"
   ]
  },
  {
   "cell_type": "code",
   "execution_count": 19,
   "metadata": {},
   "outputs": [
    {
     "name": "stdout",
     "output_type": "stream",
     "text": [
      "View the evaluation results for project 'passionate-crown-56' at:\n",
      "https://smith.langchain.com/o/2592d3be-1b02-5c06-8673-4b73992238db/datasets/499af09a-2cef-49b2-9ff6-47bac15c750a/compare?selectedSessions=14a70e54-5cdb-4ba6-ad90-f5f680b7aa3b\n",
      "\n",
      "View all tests for Dataset RAG QA Dataset v2 at:\n",
      "https://smith.langchain.com/o/2592d3be-1b02-5c06-8673-4b73992238db/datasets/499af09a-2cef-49b2-9ff6-47bac15c750a\n",
      "[-------------------------------------------->     ] 68/76"
     ]
    }
   ],
   "source": [
    "from langsmith import Client\n",
    "\n",
    "client = Client()\n",
    "\n",
    "client.run_on_dataset(\n",
    "    dataset_name=dataset_name,\n",
    "    llm_or_chain_factory=itemgetter(\"question\") | rag_chain,\n",
    "    evaluation=eval_config,\n",
    "    verbose=True,\n",
    "    # Any experiment metadata can be specified here\n",
    "    project_metadata={\"version\": \"0.0.1\"},\n",
    "    \n",
    ")"
   ]
  },
  {
   "cell_type": "markdown",
   "metadata": {},
   "source": [
    "## Please go to smith.langchain.com to see your run"
   ]
  },
  {
   "cell_type": "markdown",
   "metadata": {},
   "source": []
  }
 ],
 "metadata": {
  "kernelspec": {
   "display_name": "llm-evaluation",
   "language": "python",
   "name": "python3"
  },
  "language_info": {
   "codemirror_mode": {
    "name": "ipython",
    "version": 3
   },
   "file_extension": ".py",
   "mimetype": "text/x-python",
   "name": "python",
   "nbconvert_exporter": "python",
   "pygments_lexer": "ipython3",
   "version": "3.10.13"
  }
 },
 "nbformat": 4,
 "nbformat_minor": 2
}
