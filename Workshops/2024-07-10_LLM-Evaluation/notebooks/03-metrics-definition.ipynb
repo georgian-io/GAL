{
 "cells": [
  {
   "cell_type": "markdown",
   "metadata": {},
   "source": [
    "# Step 3: Define metrics to use\n",
    "In general, we want to evaluate 2 things: whether the context retrieved is good, and whether the overall answer is good.\n",
    "\n",
    "For this example, we will be specifically assessing the **answer** itself and keep the retrieval constant. \n",
    "\n",
    "\n",
    "## Assessing the answer\n",
    "\n",
    "Let's use the following metrics:\n",
    "- `rouge`\n",
    "- `levenshtein_ratio`\n",
    "- `faithfulness` (with `ragas`)\n",
    "- `answer_correctness` (with `ragas`)\n",
    "- `toxicity`\n",
    "\n"
   ]
  },
  {
   "cell_type": "code",
   "execution_count": 9,
   "metadata": {},
   "outputs": [],
   "source": [
    "import evaluate\n",
    "from Levenshtein import ratio as levenshtein_ratio\n",
    "from datasets import Dataset\n",
    "from ragas import evaluate as ragas_evaluate\n",
    "from ragas.metrics import faithfulness, answer_correctness\n",
    "from langchain_openai import ChatOpenAI\n",
    "\n",
    "\n",
    "def rouge(ground_truth, answer):\n",
    "    \"\"\"ROUGE-L score between the ground_truth and answer\"\"\"\n",
    "    rouge = evaluate.load('rouge')\n",
    "    return rouge.compute(predictions=[answer], references=[ground_truth])[\"rougeL\"]\n",
    "\n",
    "\n",
    "def levenshtein(ground_truth, answer):\n",
    "    \"\"\"Levenshtein ratio between the ground_truth and answer\"\"\"\n",
    "    return levenshtein_ratio(ground_truth, answer)\n",
    "\n",
    "\n",
    "def evaluate_w_ragas(item, metrics=[faithfulness, answer_correctness]):\n",
    "    \"\"\"Evaluate the answer using the given metrics with ragas\"\"\"\n",
    "    gpt4_llm = ChatOpenAI(model_name=\"gpt-4-turbo-preview\", temperature=0)\n",
    "\n",
    "    # Format the example into datasets, which ragas takes as inputs\n",
    "    row_dataset = Dataset.from_pandas(item.to_frame().T)\n",
    "\n",
    "    # Ragas by default takes in a batch of items and aggregates metrics together\n",
    "    # So in this example, we need to pass one by one to get individual results.\n",
    "    # However, it does run faster when you pass all metrics at once.\n",
    "    ragas_eval_results = ragas_evaluate(row_dataset, metrics=metrics, llm=gpt4_llm)\n",
    "    return ragas_eval_results\n",
    "\n",
    "\n",
    "def toxicity(ground_truth, answer):\n",
    "    \"\"\"Toxicity score for answer\"\"\"\n",
    "    evaluator = evaluate.load('toxicity')\n",
    "    return evaluator.compute(predictions=[answer])[\"toxicity\"]\n"
   ]
  },
  {
   "cell_type": "code",
   "execution_count": null,
   "metadata": {},
   "outputs": [],
   "source": []
  }
 ],
 "metadata": {
  "kernelspec": {
   "display_name": "llm-evaluation",
   "language": "python",
   "name": "python3"
  },
  "language_info": {
   "codemirror_mode": {
    "name": "ipython",
    "version": 3
   },
   "file_extension": ".py",
   "mimetype": "text/x-python",
   "name": "python",
   "nbconvert_exporter": "python",
   "pygments_lexer": "ipython3",
   "version": "3.10.13"
  }
 },
 "nbformat": 4,
 "nbformat_minor": 2
}
