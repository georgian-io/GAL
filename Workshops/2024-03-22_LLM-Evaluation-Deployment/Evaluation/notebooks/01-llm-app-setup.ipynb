{
 "cells": [
  {
   "cell_type": "markdown",
   "metadata": {},
   "source": [
    "# Step 1: Set up the LLM app\n",
    "\n",
    "We're using a [Q&A example from LangChain](https://python.langchain.com/docs/use_cases/question_answering/quickstart) where we'll be doing a Q&A over a [blog](https://lilianweng.github.io/posts/2023-06-23-agent/).\n",
    "\n",
    "In this notebook we setup an LLM and a RAG system via langchain. This is the \"app\" that we will be evaluating in the next few notebooks.\n",
    "\n",
    "NOTE: This notebook and the following notebooks use OpenAI models to run code. You can set your API key in the `.env` file located in the root directory of this workshop's folder. We estimate that running all the notebooks together will cost $25 with OpenAI's models.Alternatively, you can use a different LLM either via API or locally by changing the code defining the LLM. See below for an example:\n",
    "\n",
    "Replacing OpenAI models with a different API/model. In the example below, we use an AnyScale model. \n",
    "\n",
    "```python\n",
    "from langchain_community.chat_models import ChatAnyscale\n",
    "os.environ[\"ANYSCALE_API_KEY\"] = \"YOURKEYHERE\"\n",
    "llm = ChatAnyscale(model_name=\"MODEL-NAME\", temperature=0)\n",
    "```\n",
    "\n",
    "You can replace the OpenAI Embedding calls with the following (you may need to install additional libraries):\n",
    "```python\n",
    "from langchain.embeddings import HuggingFaceEmbeddings\n",
    "embedding_model = HuggingFaceEmbeddings(model_name=\"thenlper/gte-large\")\n",
    "vectorstore = Chroma.from_documents(documents=splits, embedding=embedding_model)\n",
    "```"
   ]
  },
  {
   "cell_type": "code",
   "execution_count": null,
   "metadata": {},
   "outputs": [],
   "source": [
    "%reload_ext autoreload\n",
    "%autoreload 2\n",
    "\n",
    "import dotenv\n",
    "dotenv.load_dotenv(\"../.env\", override=True)"
   ]
  },
  {
   "cell_type": "code",
   "execution_count": null,
   "metadata": {},
   "outputs": [],
   "source": [
    "import bs4\n",
    "from langchain import hub\n",
    "from langchain.text_splitter import RecursiveCharacterTextSplitter\n",
    "from langchain_community.document_loaders import WebBaseLoader\n",
    "from langchain_community.vectorstores import Chroma\n",
    "from langchain_core.output_parsers import StrOutputParser\n",
    "from langchain_core.runnables import RunnablePassthrough\n",
    "from langchain_openai import ChatOpenAI, OpenAIEmbeddings\n",
    "from operator import itemgetter"
   ]
  },
  {
   "cell_type": "code",
   "execution_count": null,
   "metadata": {},
   "outputs": [],
   "source": [
    "# Load, chunk and index the contents of the blog.\n",
    "loader = WebBaseLoader(\n",
    "    web_paths=(\"https://lilianweng.github.io/posts/2023-06-23-agent/\",),\n",
    "    bs_kwargs=dict(\n",
    "        parse_only=bs4.SoupStrainer(\n",
    "            class_=(\"post-content\", \"post-title\", \"post-header\")\n",
    "        )\n",
    "    ),\n",
    ")\n",
    "docs = loader.load()\n",
    "\n",
    "text_splitter = RecursiveCharacterTextSplitter(chunk_size=1000, chunk_overlap=200)\n",
    "splits = text_splitter.split_documents(docs)\n",
    "vectorstore = Chroma.from_documents(documents=splits, embedding=OpenAIEmbeddings())\n",
    "\n",
    "# Retrieve and generate using the relevant snippets of the blog.\n",
    "retriever = vectorstore.as_retriever()\n",
    "prompt = hub.pull(\"rlm/rag-prompt\")\n",
    "\n",
    "# You can replace this with an LLM of your choice\n",
    "# Refer: https://python.langchain.com/docs/integrations/llms/\n",
    "llm = ChatOpenAI(model_name=\"gpt-3.5-turbo\", temperature=0)\n",
    "\n",
    "def format_to_string_list(docs):\n",
    "    return [doc.page_content for doc in docs]\n",
    "\n",
    "def concat_string(str_list):\n",
    "    return \"\\n\\n\".join(str_list)\n",
    "\n",
    "rag_chain = (\n",
    "    {\"context_list\": retriever | format_to_string_list, \n",
    "     \"context\": retriever | format_to_string_list | concat_string, \n",
    "     \"question\": RunnablePassthrough()}\n",
    "    | RunnablePassthrough()\n",
    "    | {\"answer\": prompt | llm | StrOutputParser(), \n",
    "       \"context\": itemgetter(\"context_list\")}\n",
    ")"
   ]
  },
  {
   "cell_type": "code",
   "execution_count": null,
   "metadata": {},
   "outputs": [],
   "source": [
    "rag_chain.invoke(\"What is Task Decomposition?\")"
   ]
  },
  {
   "cell_type": "code",
   "execution_count": null,
   "metadata": {},
   "outputs": [],
   "source": []
  }
 ],
 "metadata": {
  "kernelspec": {
   "display_name": "llm-evaluation",
   "language": "python",
   "name": "python3"
  },
  "language_info": {
   "codemirror_mode": {
    "name": "ipython",
    "version": 3
   },
   "file_extension": ".py",
   "mimetype": "text/x-python",
   "name": "python",
   "nbconvert_exporter": "python",
   "pygments_lexer": "ipython3",
   "version": "3.10.13"
  }
 },
 "nbformat": 4,
 "nbformat_minor": 2
}
